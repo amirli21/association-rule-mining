{
 "cells": [
  {
   "cell_type": "markdown",
   "id": "bd453821",
   "metadata": {},
   "source": [
    "# Apriori algorithm with mlxtend\n",
    "\n",
    "## Importing the libraries"
   ]
  },
  {
   "cell_type": "code",
   "execution_count": 1,
   "id": "312ddb87",
   "metadata": {},
   "outputs": [],
   "source": [
    "import pandas as pd\n",
    "import numpy as np\n",
    "from mlxtend.preprocessing import TransactionEncoder\n",
    "from mlxtend.frequent_patterns import apriori, association_rules\n",
    "import mlxtend as mx\n",
    "import random"
   ]
  },
  {
   "cell_type": "markdown",
   "id": "b3e75c4a",
   "metadata": {},
   "source": [
    "## Dataset generation"
   ]
  },
  {
   "cell_type": "code",
   "execution_count": 2,
   "id": "05208559",
   "metadata": {},
   "outputs": [],
   "source": [
    "dataset = list()\n",
    "\n",
    "items = ['Apple','Corn','Dill','Eggs',\n",
    "         'Ice cream','Kidney Beans','Milk','Nutmeg',\n",
    "         'Onion','Unicorn','Yogurt', 'Bread', \n",
    "         'Cheese', 'Butter', 'Sugar','chocolate', 'Coke', 'Energy drink']\n",
    "for i in range(10000):\n",
    "    k = random.randrange(1, len(items) + 1)\n",
    "    dataset.append(random.choices(items, k=k))"
   ]
  },
  {
   "cell_type": "markdown",
   "id": "bda82cb9",
   "metadata": {},
   "source": [
    "## Writing dataset to CSV file"
   ]
  },
  {
   "cell_type": "code",
   "execution_count": 3,
   "id": "2b0098ce",
   "metadata": {},
   "outputs": [],
   "source": [
    "te = TransactionEncoder()\n",
    "te_array = te.fit_transform(dataset)\n",
    "df = pd.DataFrame(te_array, columns=te.columns_)\n",
    "df.to_csv('../datasets/stocks.csv')"
   ]
  },
  {
   "cell_type": "markdown",
   "id": "d787d186",
   "metadata": {},
   "source": [
    "## Looking at some dataset inferences"
   ]
  },
  {
   "cell_type": "code",
   "execution_count": 8,
   "id": "ace4b935",
   "metadata": {},
   "outputs": [
    {
     "name": "stdout",
     "output_type": "stream",
     "text": [
      "Number of rules: 171\n"
     ]
    }
   ],
   "source": [
    "min_sup = .13\n",
    "print(\"Number of rules:\", len(apriori(df, min_support=min_sup)))"
   ]
  },
  {
   "cell_type": "code",
   "execution_count": 9,
   "id": "b834f16c",
   "metadata": {},
   "outputs": [
    {
     "data": {
      "text/html": [
       "<div>\n",
       "<style scoped>\n",
       "    .dataframe tbody tr th:only-of-type {\n",
       "        vertical-align: middle;\n",
       "    }\n",
       "\n",
       "    .dataframe tbody tr th {\n",
       "        vertical-align: top;\n",
       "    }\n",
       "\n",
       "    .dataframe thead th {\n",
       "        text-align: right;\n",
       "    }\n",
       "</style>\n",
       "<table border=\"1\" class=\"dataframe\">\n",
       "  <thead>\n",
       "    <tr style=\"text-align: right;\">\n",
       "      <th></th>\n",
       "      <th>support</th>\n",
       "      <th>itemsets</th>\n",
       "    </tr>\n",
       "  </thead>\n",
       "  <tbody>\n",
       "    <tr>\n",
       "      <th>0</th>\n",
       "      <td>0.3981</td>\n",
       "      <td>(Apple)</td>\n",
       "    </tr>\n",
       "    <tr>\n",
       "      <th>1</th>\n",
       "      <td>0.3879</td>\n",
       "      <td>(Bread)</td>\n",
       "    </tr>\n",
       "    <tr>\n",
       "      <th>2</th>\n",
       "      <td>0.3972</td>\n",
       "      <td>(Butter)</td>\n",
       "    </tr>\n",
       "    <tr>\n",
       "      <th>3</th>\n",
       "      <td>0.3994</td>\n",
       "      <td>(Cheese)</td>\n",
       "    </tr>\n",
       "    <tr>\n",
       "      <th>4</th>\n",
       "      <td>0.4058</td>\n",
       "      <td>(Coke)</td>\n",
       "    </tr>\n",
       "    <tr>\n",
       "      <th>...</th>\n",
       "      <td>...</td>\n",
       "      <td>...</td>\n",
       "    </tr>\n",
       "    <tr>\n",
       "      <th>166</th>\n",
       "      <td>0.1822</td>\n",
       "      <td>(Sugar, Yogurt)</td>\n",
       "    </tr>\n",
       "    <tr>\n",
       "      <th>167</th>\n",
       "      <td>0.1805</td>\n",
       "      <td>(chocolate, Sugar)</td>\n",
       "    </tr>\n",
       "    <tr>\n",
       "      <th>168</th>\n",
       "      <td>0.1774</td>\n",
       "      <td>(Unicorn, Yogurt)</td>\n",
       "    </tr>\n",
       "    <tr>\n",
       "      <th>169</th>\n",
       "      <td>0.1753</td>\n",
       "      <td>(chocolate, Unicorn)</td>\n",
       "    </tr>\n",
       "    <tr>\n",
       "      <th>170</th>\n",
       "      <td>0.1813</td>\n",
       "      <td>(chocolate, Yogurt)</td>\n",
       "    </tr>\n",
       "  </tbody>\n",
       "</table>\n",
       "<p>171 rows × 2 columns</p>\n",
       "</div>"
      ],
      "text/plain": [
       "     support              itemsets\n",
       "0     0.3981               (Apple)\n",
       "1     0.3879               (Bread)\n",
       "2     0.3972              (Butter)\n",
       "3     0.3994              (Cheese)\n",
       "4     0.4058                (Coke)\n",
       "..       ...                   ...\n",
       "166   0.1822       (Sugar, Yogurt)\n",
       "167   0.1805    (chocolate, Sugar)\n",
       "168   0.1774     (Unicorn, Yogurt)\n",
       "169   0.1753  (chocolate, Unicorn)\n",
       "170   0.1813   (chocolate, Yogurt)\n",
       "\n",
       "[171 rows x 2 columns]"
      ]
     },
     "execution_count": 9,
     "metadata": {},
     "output_type": "execute_result"
    }
   ],
   "source": [
    "apriori(df, min_support=min_sup, use_colnames=True)"
   ]
  },
  {
   "cell_type": "code",
   "execution_count": 10,
   "id": "57847c03",
   "metadata": {},
   "outputs": [],
   "source": [
    "frequent_itemsets = _\n",
    "\n",
    "generated_rule = association_rules(frequent_itemsets, metric=\"confidence\", min_threshold=0.30)"
   ]
  },
  {
   "cell_type": "code",
   "execution_count": 11,
   "id": "19fcc99d",
   "metadata": {},
   "outputs": [
    {
     "name": "stdout",
     "output_type": "stream",
     "text": [
      "Number of generated rules: 306\n"
     ]
    }
   ],
   "source": [
    "print(\"Number of generated rules:\", len(generated_rule))"
   ]
  },
  {
   "cell_type": "code",
   "execution_count": 12,
   "id": "f0a0fdd9",
   "metadata": {},
   "outputs": [],
   "source": [
    "lifting_rule = association_rules(frequent_itemsets, metric=\"lift\", min_threshold=1)\n",
    "\n",
    "lifting_rule = lifting_rule.sort_values(['lift'], ascending=False)"
   ]
  },
  {
   "cell_type": "code",
   "execution_count": 13,
   "id": "3aab2978",
   "metadata": {},
   "outputs": [
    {
     "name": "stdout",
     "output_type": "stream",
     "text": [
      "        antecedents     consequents  antecedent support  consequent support  \\\n",
      "156          (Corn)     (Ice cream)              0.3901              0.3948   \n",
      "157     (Ice cream)          (Corn)              0.3948              0.3901   \n",
      "159          (Corn)  (Kidney Beans)              0.3901              0.4053   \n",
      "158  (Kidney Beans)          (Corn)              0.4053              0.3901   \n",
      "41          (Bread)          (Corn)              0.3879              0.3901   \n",
      "..              ...             ...                 ...                 ...   \n",
      "225         (Onion)  (Energy drink)              0.4013              0.4061   \n",
      "238        (Nutmeg)     (Ice cream)              0.3896              0.3948   \n",
      "239     (Ice cream)        (Nutmeg)              0.3948              0.3896   \n",
      "95         (Butter)     (chocolate)              0.3972              0.3924   \n",
      "94      (chocolate)        (Butter)              0.3924              0.3972   \n",
      "\n",
      "     support  confidence      lift  leverage  conviction  \n",
      "156   0.1820    0.466547  1.181730  0.027989    1.134496  \n",
      "157   0.1820    0.460993  1.181730  0.027989    1.131525  \n",
      "159   0.1865    0.478083  1.179577  0.028392    1.139452  \n",
      "158   0.1865    0.460153  1.179577  0.028392    1.129764  \n",
      "41    0.1780    0.458881  1.176317  0.026680    1.127109  \n",
      "..       ...         ...       ...       ...         ...  \n",
      "225   0.1805    0.449788  1.107580  0.017532    1.079402  \n",
      "238   0.1700    0.436345  1.105230  0.016186    1.073706  \n",
      "239   0.1700    0.430598  1.105230  0.016186    1.072001  \n",
      "95    0.1713    0.431269  1.099054  0.015439    1.068343  \n",
      "94    0.1713    0.436544  1.099054  0.015439    1.069827  \n",
      "\n",
      "[306 rows x 9 columns]\n"
     ]
    }
   ],
   "source": [
    "print(lifting_rule)"
   ]
  },
  {
   "cell_type": "code",
   "execution_count": null,
   "id": "6aeb3836",
   "metadata": {},
   "outputs": [],
   "source": []
  }
 ],
 "metadata": {
  "kernelspec": {
   "display_name": "Python 3 (ipykernel)",
   "language": "python",
   "name": "python3"
  },
  "language_info": {
   "codemirror_mode": {
    "name": "ipython",
    "version": 3
   },
   "file_extension": ".py",
   "mimetype": "text/x-python",
   "name": "python",
   "nbconvert_exporter": "python",
   "pygments_lexer": "ipython3",
   "version": "3.8.13"
  }
 },
 "nbformat": 4,
 "nbformat_minor": 5
}
